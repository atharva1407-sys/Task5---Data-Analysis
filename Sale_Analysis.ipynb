{
 "cells": [
  {
   "cell_type": "code",
   "execution_count": null,
   "id": "962df038",
   "metadata": {},
   "outputs": [],
   "source": [
    "import pandas as pd\n",
    "import matplotlib.pyplot as plt\n",
    "import seaborn as sns\n",
    "sns.set(style=\"whitegrid\")\n"
   ]
  },
  {
   "cell_type": "code",
   "execution_count": null,
   "id": "3d972da1",
   "metadata": {},
   "outputs": [],
   "source": [
    "df = pd.read_csv('sample_sales_data.csv')\n",
    "df.head()\n"
   ]
  },
  {
   "cell_type": "code",
   "execution_count": null,
   "id": "82f2907b",
   "metadata": {},
   "outputs": [],
   "source": [
    "print(\"Shape:\", df.shape)\n",
    "print(df.info())\n",
    "print(df.describe())\n"
   ]
  },
  {
   "cell_type": "code",
   "execution_count": null,
   "id": "01e053e3",
   "metadata": {},
   "outputs": [],
   "source": [
    "category_sales = df.groupby('Category')['Sales'].sum().sort_values(ascending=False)\n",
    "category_sales.plot(kind='bar', title='Total Sales by Category', color='skyblue')\n",
    "plt.ylabel(\"Sales\")\n",
    "plt.xlabel(\"Category\")\n",
    "plt.xticks(rotation=45)\n",
    "plt.tight_layout()\n",
    "plt.show()\n"
   ]
  },
  {
   "cell_type": "code",
   "execution_count": null,
   "id": "fd8ab976",
   "metadata": {},
   "outputs": [],
   "source": [
    "top_products = df.groupby('Product Name')['Sales'].sum().sort_values(ascending=False).head(10)\n",
    "top_products.plot(kind='barh', title='Top 10 Products by Sales', color='coral')\n",
    "plt.xlabel(\"Sales\")\n",
    "plt.tight_layout()\n",
    "plt.show()\n"
   ]
  }
 ],
 "metadata": {
  "kernelspec": {
   "display_name": "Python 3",
   "language": "python",
   "name": "python3"
  },
  "language_info": {
   "codemirror_mode": {
    "name": "ipython",
    "version": 3
   },
   "file_extension": ".py",
   "mimetype": "text/x-python",
   "name": "python",
   "nbconvert_exporter": "python",
   "pygments_lexer": "ipython3",
   "version": "3.13.5"
  }
 },
 "nbformat": 4,
 "nbformat_minor": 5
}
